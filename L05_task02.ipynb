{
 "cells": [
  {
   "cell_type": "code",
   "execution_count": 1,
   "id": "dd13d152",
   "metadata": {},
   "outputs": [],
   "source": [
    "%matplotlib inline\n",
    "import numpy as np\n",
    "import matplotlib.pyplot as plt\n",
    "import matplotlib.mlab as mlab"
   ]
  },
  {
   "cell_type": "code",
   "execution_count": 15,
   "id": "a38400a9",
   "metadata": {},
   "outputs": [
    {
     "name": "stdout",
     "output_type": "stream",
     "text": [
      "True\n",
      "262 4910 4828 10000\n",
      "0.026 0.491 0.483\n"
     ]
    }
   ],
   "source": [
    "zero, left, right, summ = 0, 0, 0, 0\n",
    "n = 10000\n",
    "for i in range(0, n):\n",
    "    x = np.random.randint(0, 37)\n",
    "    summ = summ + 1\n",
    "    if x == 0:\n",
    "        zero = zero + 1 \n",
    "    elif x < 19:\n",
    "        left = left + 1\n",
    "    else:\n",
    "        right = right + 1\n",
    "if zero + left + right == summ:\n",
    "  print(True)\n",
    "else:\n",
    "  print(False)\n",
    "print(zero, left, right, summ)\n",
    "print(f'{zero/summ:.3f} {left/summ:.3f} {right/summ:.3f}')"
   ]
  },
  {
   "cell_type": "code",
   "execution_count": 16,
   "id": "08d0b8cc",
   "metadata": {},
   "outputs": [
    {
     "data": {
      "text/plain": [
       "Text(0.5, 1.0, 'Гистограмма')"
      ]
     },
     "execution_count": 16,
     "metadata": {},
     "output_type": "execute_result"
    },
    {
     "data": {
      "image/png": "[encoded data removed]",
      "text/plain": [
       "<Figure size 432x288 with 1 Axes>"
      ]
     },
     "metadata": {
      "needs_background": "light"
     },
     "output_type": "display_data"
    }
   ],
   "source": [
    "allsums=[]\n",
    "for i in range(1001):\n",
    "  x=np.random.rand(10)\n",
    "  allsums.append(sum(x))\n",
    "  i+=1\n",
    "num_bins = 20\n",
    "n, bins, patches = plt.hist(allsums, num_bins)\n",
    "plt.xlabel('Сумма')\n",
    "plt.ylabel('Вероятность')\n",
    "plt.title('Гистограмма')"
   ]
  },
  {
   "cell_type": "code",
   "execution_count": null,
   "id": "3f34c7b5",
   "metadata": {},
   "outputs": [],
   "source": []
  }
 ],
 "metadata": {
  "kernelspec": {
   "display_name": "Python 3 (ipykernel)",
   "language": "python",
   "name": "python3"
  },
  "language_info": {
   "codemirror_mode": {
    "name": "ipython",
    "version": 3
   },
   "file_extension": ".py",
   "mimetype": "text/x-python",
   "name": "python",
   "nbconvert_exporter": "python",
   "pygments_lexer": "ipython3",
   "version": "3.9.7"
  }
 },
 "nbformat": 4,
 "nbformat_minor": 5
}
