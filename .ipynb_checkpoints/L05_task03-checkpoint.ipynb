{
 "cells": [
  {
   "cell_type": "code",
   "execution_count": 27,
   "metadata": {
    "id": "uRkzMzmKJEBA"
   },
   "outputs": [],
   "source": [
    "import numpy as np\n",
    "import itertools\n",
    "import sys\n",
    "import math"
   ]
  },
  {
   "cell_type": "code",
   "execution_count": 89,
   "metadata": {
    "colab": {
     "base_uri": "https://localhost:8080/"
    },
    "id": "1FSBHdLLJEBM",
    "outputId": "f4e013be-5cfc-4b51-e161-3949870c2ba9"
   },
   "outputs": [
    {
     "name": "stdout",
     "output_type": "stream",
     "text": [
      "252, 1000, 0.252, 0.029\n"
     ]
    }
   ],
   "source": [
    "k, n = 0, 1000\n",
    "a = np.random.randint(0, 2, n)\n",
    "b = np.random.randint(0, 2, n)\n",
    "c = np.random.randint(0, 2, n)\n",
    "d = np.random.randint(0, 2, n)\n",
    "x = a + b + c + d\n",
    "for i in range(0, n):\n",
    "    if x[i] == 2:\n",
    "        k = k + 1\n",
    "C = math.factorial(n) / (math.factorial(k) * math.factorial(n - k))\n",
    "prob = C * (0.375 ** k) * (0.625 ** (n - k))\n",
    "print(f'{k}, {n}, {k/n}, {prob:.3f}')"
   ]
  },
  {
   "cell_type": "code",
   "execution_count": 61,
   "metadata": {
    "id": "nnNAGGld5mWj"
   },
   "outputs": [
    {
     "name": "stdout",
     "output_type": "stream",
     "text": [
      "0\n",
      "1\n",
      "1\n",
      "2\n",
      "1\n",
      "2\n",
      "2\n",
      "3\n",
      "1\n",
      "2\n",
      "2\n",
      "3\n",
      "2\n",
      "3\n",
      "3\n",
      "4\n"
     ]
    }
   ],
   "source": [
    "for p in itertools.product(\"01\",repeat=4):\n",
    "    print(sum(map(int, p)))"
   ]
  },
  {
   "cell_type": "code",
   "execution_count": 93,
   "metadata": {},
   "outputs": [
    {
     "name": "stdout",
     "output_type": "stream",
     "text": [
      "248, 1000, 0.248, 0.029\n"
     ]
    }
   ],
   "source": [
    "k, n = 0, 1000\n",
    "a = np.random.randint(0, 2, n)\n",
    "b = np.random.randint(0, 2, n)\n",
    "c = np.random.randint(0, 2, n)\n",
    "d = np.random.randint(0, 2, n)\n",
    "x = a + b + c + d\n",
    "for i in range(0, n):\n",
    "    if x[i] == 3:\n",
    "        k = k + 1\n",
    "C = math.factorial(n) / (math.factorial(k) * math.factorial(n - k))\n",
    "prob = C * (0.25 ** k) * (0.75 ** (n - k))\n",
    "print(f'{k}, {n}, {k/n}, {prob:.3f}')"
   ]
  },
  {
   "cell_type": "code",
   "execution_count": null,
   "metadata": {},
   "outputs": [],
   "source": []
  }
 ],
 "metadata": {
  "colab": {
   "collapsed_sections": [],
   "name": "Копия 4.4.ipynb",
   "provenance": []
  },
  "kernelspec": {
   "display_name": "Python 3 (ipykernel)",
   "language": "python",
   "name": "python3"
  },
  "language_info": {
   "codemirror_mode": {
    "name": "ipython",
    "version": 3
   },
   "file_extension": ".py",
   "mimetype": "text/x-python",
   "name": "python",
   "nbconvert_exporter": "python",
   "pygments_lexer": "ipython3",
   "version": "3.9.7"
  }
 },
 "nbformat": 4,
 "nbformat_minor": 1
}
