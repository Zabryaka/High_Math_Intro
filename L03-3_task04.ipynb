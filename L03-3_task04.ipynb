{
 "cells": [
  {
   "cell_type": "code",
   "execution_count": 22,
   "id": "c855cf49",
   "metadata": {},
   "outputs": [],
   "source": [
    "%matplotlib inline\n",
    "import numpy as np\n",
    "import matplotlib.pyplot as plt\n",
    "import math"
   ]
  },
  {
   "cell_type": "code",
   "execution_count": 23,
   "id": "a01120aa",
   "metadata": {},
   "outputs": [
    {
     "data": {
      "image/png": "[encoded data removed]",
      "text/plain": [
       "<Figure size 432x288 with 1 Axes>"
      ]
     },
     "metadata": {
      "needs_background": "light"
     },
     "output_type": "display_data"
    }
   ],
   "source": [
    "x = np.linspace(-3, 5, 200)\n",
    "y1 = x**2 - 1\n",
    "y2 = (np.exp(x) - 1)/x + 1\n",
    "plt.plot(x, y1, 'blue')\n",
    "plt.plot(x, y2, 'red')\n",
    "plt.grid(True)"
   ]
  },
  {
   "cell_type": "code",
   "execution_count": 43,
   "id": "8f858a0e",
   "metadata": {},
   "outputs": [
    {
     "name": "stdout",
     "output_type": "stream",
     "text": [
      "Точки пересечения (x, y) двух заданных функций:\n",
      "(-1.582, 1.502)\n",
      "(2.618, 5.855)\n",
      "(4.200, 16.641)\n",
      "\n",
      "точка -2, 3 не удовлетворяет неравенству\n",
      "точка -1, 0 удовлетворяет неравенству\n",
      "x не может быть равен 0\n",
      "точка 1, 0 удовлетворяет неравенству\n",
      "точка 3.5, 11.25 не удовлетворяет неравенству\n",
      "точка 5, 24 удовлетворяет неравенству\n",
      "\n",
      "Отрезки параболы для x, принадлежащему (-1.582, 0) & (0, 2.618) & (4.200, +inf), удовлетворяют неравенству\n"
     ]
    },
    {
     "name": "stderr",
     "output_type": "stream",
     "text": [
      "/var/folders/5n/9r_1j9sn6l50gqg2z_7h0hbh0000gn/T/ipykernel_12570/1174506524.py:9: RuntimeWarning: invalid value encountered in double_scalars\n",
      "  f2 = (np.exp(xx) - 1)/xx + 1\n"
     ]
    }
   ],
   "source": [
    "from scipy.optimize import fsolve\n",
    "\n",
    "def equations(p):\n",
    "    x, y = p\n",
    "    return (y - x**2 + 1, np.exp(x) + x * (1 - y) - 1)\n",
    "\n",
    "def check_area(xx):\n",
    "    f1 = xx**2 - 1\n",
    "    f2 = (np.exp(xx) - 1)/xx + 1\n",
    "    if xx == 0:\n",
    "        return f'x не может быть равен 0'\n",
    "    elif f1 < f2:\n",
    "        return f'точка {xx}, {f1} удовлетворяет неравенству'\n",
    "    else:\n",
    "        return f'точка {xx}, {f1} не удовлетворяет неравенству'\n",
    "\n",
    "#найдём перечение графиков\n",
    "x1, y1 = fsolve(equations, (-2, 3))\n",
    "x2, y2 = fsolve(equations, (2, 2))\n",
    "x3, y3 = fsolve(equations, (4, 15))\n",
    "print('Точки пересечения (x, y) двух заданных функций:')\n",
    "print(f'({x1:.3f}, {y1:.3f})')\n",
    "print(f'({x2:.3f}, {y2:.3f})')\n",
    "print(f'({x3:.3f}, {y3:.3f})\\n')\n",
    "\n",
    "#выберем области параболы, удовлетворяющие неравенству\n",
    "print(check_area(-2))\n",
    "print(check_area(-1))\n",
    "print(check_area(0))\n",
    "print(check_area(1))\n",
    "print(check_area(3.5))\n",
    "print(check_area(5))\n",
    "\n",
    "print(f'\\nОтрезки параболы для x, принадлежащему ({x1:.3f}, 0) & (0, {x2:.3f}) & ({x3:.3f}, +inf), удовлетворяют неравенству')"
   ]
  },
  {
   "cell_type": "code",
   "execution_count": null,
   "id": "34370db3",
   "metadata": {},
   "outputs": [],
   "source": []
  }
 ],
 "metadata": {
  "kernelspec": {
   "display_name": "Python 3 (ipykernel)",
   "language": "python",
   "name": "python3"
  },
  "language_info": {
   "codemirror_mode": {
    "name": "ipython",
    "version": 3
   },
   "file_extension": ".py",
   "mimetype": "text/x-python",
   "name": "python",
   "nbconvert_exporter": "python",
   "pygments_lexer": "ipython3",
   "version": "3.9.7"
  }
 },
 "nbformat": 4,
 "nbformat_minor": 5
}
