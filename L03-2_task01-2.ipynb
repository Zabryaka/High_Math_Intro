{
 "cells": [
  {
   "cell_type": "code",
   "execution_count": 6,
   "id": "6788aa87",
   "metadata": {},
   "outputs": [
    {
     "name": "stdout",
     "output_type": "stream",
     "text": [
      "[10, 10, 0]\n"
     ]
    }
   ],
   "source": [
    "def vector_sum(a, b):\n",
    "    c = []\n",
    "    if len(a) == len(b):\n",
    "        for i in range(len(a)):\n",
    "            c.append(a[i] + b[i])\n",
    "        return c\n",
    "    else:\n",
    "        return f\"Векторы должны быть одинаковой длины!\"\n",
    "\n",
    "\n",
    "a = [10, 10, 10]\n",
    "b = [0, 0, -10]\n",
    "print(vector_sum(a, b))"
   ]
  },
  {
   "cell_type": "code",
   "execution_count": null,
   "id": "73129b43",
   "metadata": {},
   "outputs": [],
   "source": []
  }
 ],
 "metadata": {
  "kernelspec": {
   "display_name": "Python 3 (ipykernel)",
   "language": "python",
   "name": "python3"
  },
  "language_info": {
   "codemirror_mode": {
    "name": "ipython",
    "version": 3
   },
   "file_extension": ".py",
   "mimetype": "text/x-python",
   "name": "python",
   "nbconvert_exporter": "python",
   "pygments_lexer": "ipython3",
   "version": "3.9.7"
  }
 },
 "nbformat": 4,
 "nbformat_minor": 5
}
