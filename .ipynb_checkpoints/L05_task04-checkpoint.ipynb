{
 "cells": [
  {
   "cell_type": "code",
   "execution_count": 12,
   "metadata": {
    "id": "uRkzMzmKJEBA"
   },
   "outputs": [],
   "source": [
    "import itertools"
   ]
  },
  {
   "cell_type": "code",
   "execution_count": 13,
   "metadata": {
    "id": "nnNAGGld5mWj"
   },
   "outputs": [
    {
     "name": "stdout",
     "output_type": "stream",
     "text": [
      "555\n",
      "556\n",
      "557\n",
      "565\n",
      "566\n",
      "567\n",
      "575\n",
      "576\n",
      "577\n",
      "655\n",
      "656\n",
      "657\n",
      "665\n",
      "666\n",
      "667\n",
      "675\n",
      "676\n",
      "677\n",
      "755\n",
      "756\n",
      "757\n",
      "765\n",
      "766\n",
      "767\n",
      "775\n",
      "776\n",
      "777\n"
     ]
    }
   ],
   "source": [
    "for p in itertools.product(\"567\",repeat=3):\n",
    "    print(''.join(p))"
   ]
  },
  {
   "cell_type": "code",
   "execution_count": 14,
   "metadata": {},
   "outputs": [
    {
     "name": "stdout",
     "output_type": "stream",
     "text": [
      "567\n",
      "576\n",
      "657\n",
      "675\n",
      "756\n",
      "765\n"
     ]
    }
   ],
   "source": [
    "for p in itertools.permutations(\"567\",3):\n",
    "    print(''.join(p))"
   ]
  },
  {
   "cell_type": "code",
   "execution_count": 16,
   "metadata": {},
   "outputs": [
    {
     "name": "stdout",
     "output_type": "stream",
     "text": [
      "567\n"
     ]
    }
   ],
   "source": [
    "for p in itertools.combinations(\"567\",3):\n",
    "    print(''.join(p))"
   ]
  },
  {
   "cell_type": "code",
   "execution_count": null,
   "metadata": {},
   "outputs": [],
   "source": []
  }
 ],
 "metadata": {
  "colab": {
   "collapsed_sections": [],
   "name": "Копия 4.4.ipynb",
   "provenance": []
  },
  "kernelspec": {
   "display_name": "Python 3 (ipykernel)",
   "language": "python",
   "name": "python3"
  },
  "language_info": {
   "codemirror_mode": {
    "name": "ipython",
    "version": 3
   },
   "file_extension": ".py",
   "mimetype": "text/x-python",
   "name": "python",
   "nbconvert_exporter": "python",
   "pygments_lexer": "ipython3",
   "version": "3.9.7"
  }
 },
 "nbformat": 4,
 "nbformat_minor": 1
}
